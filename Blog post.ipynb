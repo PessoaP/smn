{
 "cells": [
  {
   "cell_type": "markdown",
   "id": "45a6e0a6",
   "metadata": {},
   "source": [
    "## Introduction"
   ]
  },
  {
   "cell_type": "markdown",
   "id": "4fdbe1ba",
   "metadata": {},
   "source": [
    "[Numba](https://numba.pydata.org/) is a widely-used just-in-time (JIT) compiler for Python that optimizes the execution of numerical computations by translating them to efficient machine code. It is popular for its ability to accelerate performance in various scientific and computational tasks. However, one limitation of Numba is the absence of a built-in implementation for sparse matrices (while many elements of [SciPy](https://docs.scipy.org/doc/scipy/reference/sparse.html) were implemented in Numba, sparse matrices were never one of them). Sparse matrices -- meaning, matrices where most of the elements are zero -- are prevalent in several scientific fields such as graph theory, natural language processing, and computational biology.\n",
    "\n",
    "In what follows, we will introduce the `smn` (Sparse Matrices in Numba) library that can be used in conjunction with Numba to handle sparse matrices - meaning can be used inside functions compiled through Numba - providing an effective solution for scientific computing tasks that involve sparse data structures. The present document can be seen both as a brief lesson on sparse matrices, but also as a documentation of `smn` with mathematical details. \n"
   ]
  },
  {
   "cell_type": "markdown",
   "id": "faf55e3a",
   "metadata": {},
   "source": [
    "First, let's import `smn` which can be found in my [GitHub](https://github.com/PessoaP/smn) repository, for the code presented here to work it suffices to have the file `smn.py` installed in the same directory. We will also import the standard `numpy` library for numerical analysis in python, which will be further used to compare the accuracy of the functions implemented in `smn`."
   ]
  },
  {
   "cell_type": "code",
   "execution_count": 1,
   "id": "99d6faff",
   "metadata": {},
   "outputs": [],
   "source": [
    "import smn\n",
    "import numpy as np\n",
    "import numba"
   ]
  },
  {
   "cell_type": "markdown",
   "id": "3f54c134",
   "metadata": {},
   "source": [
    "## What is a sparse matrix?"
   ]
  },
  {
   "cell_type": "markdown",
   "id": "cbc1c860",
   "metadata": {},
   "source": [
    "A sparse matrix is a data structure meant to represent matrices for which the vast majority of elements is zero.  Instead of allocating memory for all elements in the matrix, these data structures store only the non-zero elements (and their corresponding indices). This can vastly conserve memory and allows for faster computations. For example, let us consider the following matrix"
   ]
  },
  {
   "cell_type": "markdown",
   "id": "0932c7f2",
   "metadata": {},
   "source": [
    "\n",
    "$$ A = \n",
    "\\begin{bmatrix}\n",
    "0. & 2. & 0. & 0. & 0. & 0. \\\\\n",
    "1. & 0. & 2. & 0. & 0. & 0. \\\\\n",
    "0. & 1. & 0. & 2. & 0. & 0. \\\\\n",
    "0. & 0. & 1. & 0. & 2. & 0. \\\\\n",
    "0. & 0. & 0. & 1. & 0. & 2. \\\\\n",
    "0. & 0. & 0. & 0. & 1. & 0. \\\\\n",
    "\\end{bmatrix} \\ .\n",
    "$$ \n"
   ]
  },
  {
   "cell_type": "markdown",
   "id": "a8b7b9d5",
   "metadata": {},
   "source": [
    "This could be, instead, represented as by the triad of 1 dimensional arrays as:"
   ]
  },
  {
   "cell_type": "markdown",
   "id": "b8ac5b61",
   "metadata": {},
   "source": [
    "| Array index| 0    | 1    | 2    | 3    | 4    | 5    | 6    | 7    | 8    | 9    | \n",
    "|-------------|------|------|------|------|------|------|------|------|------|------|\n",
    "| $A_{\\text{lines}} $ | 0   | 1   | 2   | 3   | 4   | 5   | 4   | 3   | 2   | 1   |\n",
    "|  $A_{\\text{colums}} $ | 1   | 0   | 2   | 1   | 3   | 2   | 4   | 3   | 5   | 4   |\n",
    "| $A_{\\text{values}}$ | 2.0 | 1.0 | 2.0 | 1.0 | 2.0 | 1.0 | 2.0 | 1.0 | 2.0 | 1.0 |"
   ]
  },
  {
   "cell_type": "markdown",
   "id": "eec49f96",
   "metadata": {},
   "source": [
    "This sparse matrix representation shown above is known as the \"coordinate list\" (COO) format. In the COO format, the non-zero elements of the matrix are represented by their corresponding row indices, column indices, and values. This is the way in which `smn` represents sparse matrices. Other formats, such as the \"compressed sparse row\" [(CSR)](https://en.wikipedia.org/wiki/Sparse_matrix#Compressed_sparse_row_(CSR,%20_CRS_or_Yale_format)), \"compressed sparse column\" [(CSC)](https://en.wikipedia.org/wiki/Sparse_matrix#Compressed_sparse_column_(CSC_or_CCS)), and \"dictionary of keys\" [(DOK)](https://en.wikipedia.org/wiki/Sparse_matrix#Dictionary_of_keys_(DOK)) can be used instead, with higher efficiency in some specific applications, but for `smn` we opted for COO for more general applicability and easy of understanding."
   ]
  },
  {
   "cell_type": "markdown",
   "id": "12a5f66d",
   "metadata": {},
   "source": [
    "Given that matrix $A$ is 6x6, it has a total of 36 elements. In a dense representation, we would need to store all 36 elements, even though the majority of them are zero. On the other hand, the representation  presented above only stores the non-zero elements (10 in this example) along with their corresponding row and column indices (30 elements in total). While this is a modest reduction in memory usage, it is significantly more advantageous for larger matrices that exhibit sparsity. As the size of the matrix increases, and the number of non-zero elements remains relatively small, the memory savings become even more significant. In the present document we proceed using 6x6 matrices for pedagogical pourposes, but the `smn` library is able to deal with arbitrarily large matricial dimensions."
   ]
  },
  {
   "cell_type": "markdown",
   "id": "e39d5b64",
   "metadata": {},
   "source": [
    "## Creating a sparse matrix"
   ]
  },
  {
   "cell_type": "markdown",
   "id": "4157e02e",
   "metadata": {},
   "source": [
    "The `smn` library has a specialized class called `sparse_matrix` that is designed to store sparse matrices in the COO format. Our first example consists of generating a sparse matrix using the 'smn' library. For this, one has to explicitly says the line, colum and value of each non-zero term in the matrix. One example that will be further useful in this document is presented below."
   ]
  },
  {
   "cell_type": "markdown",
   "id": "79401265",
   "metadata": {},
   "source": [
    "`smn.sparse_matrix`(lines,columns,values,shape)\n",
    "\n",
    "Parameters:  <br>\n",
    "**lines**   - `numpy.array` of integers.\n",
    "<br>\n",
    "**columns** - `numpy.array` of integers.\n",
    "<br>\n",
    "**values**  - `numpy.array` of floats.\n",
    "<br>\n",
    "**shape**   - `integer` the dimension of the matrix, (if not specified will assume it is the maximum element of **lines**) as of now it only implements square matrices of dimension (**shape**,**shape**).\n",
    "\n",
    "Returns: The equivalent sparse matrix as an object of the `smn.sparse_matrix` class."
   ]
  },
  {
   "cell_type": "code",
   "execution_count": 2,
   "id": "a318c192",
   "metadata": {},
   "outputs": [],
   "source": [
    "lines   = np.array((0,1,2,3,4,5,4,3,2,1),dtype=np.int64)\n",
    "columns = np.array((1,2,3,4,5,4,3,2,1,0),dtype=np.int64)\n",
    "values  = np.array((2,2,2,2,2,1,1,1,1,1),dtype=np.float64)\n",
    "\n",
    "A = smn.sparse_matrix(lines,columns,values)"
   ]
  },
  {
   "cell_type": "markdown",
   "id": "b776aa1e",
   "metadata": {},
   "source": [
    "This creates our sparse matrix. One can recover the lines, columns and values arrays using the respective atributes:"
   ]
  },
  {
   "cell_type": "code",
   "execution_count": 3,
   "id": "a34f76bd",
   "metadata": {},
   "outputs": [
    {
     "data": {
      "text/plain": [
       "array([0, 1, 2, 3, 4, 5, 4, 3, 2, 1])"
      ]
     },
     "execution_count": 3,
     "metadata": {},
     "output_type": "execute_result"
    }
   ],
   "source": [
    "A.lines"
   ]
  },
  {
   "cell_type": "code",
   "execution_count": 4,
   "id": "0072a888",
   "metadata": {},
   "outputs": [
    {
     "data": {
      "text/plain": [
       "array([1, 2, 3, 4, 5, 4, 3, 2, 1, 0])"
      ]
     },
     "execution_count": 4,
     "metadata": {},
     "output_type": "execute_result"
    }
   ],
   "source": [
    "A.columns"
   ]
  },
  {
   "cell_type": "code",
   "execution_count": 5,
   "id": "41d7df4e",
   "metadata": {},
   "outputs": [
    {
     "data": {
      "text/plain": [
       "array([2., 2., 2., 2., 2., 1., 1., 1., 1., 1.])"
      ]
     },
     "execution_count": 5,
     "metadata": {},
     "output_type": "execute_result"
    }
   ],
   "source": [
    "A.values"
   ]
  },
  {
   "cell_type": "markdown",
   "id": "91381208",
   "metadata": {},
   "source": [
    "Some times, for ease of observation, one may want to see the sparse matrix as a dense matrix. For this, we have the `to_dense` method"
   ]
  },
  {
   "cell_type": "code",
   "execution_count": 6,
   "id": "a9e8c38c",
   "metadata": {},
   "outputs": [
    {
     "data": {
      "text/plain": [
       "array([[0., 2., 0., 0., 0., 0.],\n",
       "       [1., 0., 2., 0., 0., 0.],\n",
       "       [0., 1., 0., 2., 0., 0.],\n",
       "       [0., 0., 1., 0., 2., 0.],\n",
       "       [0., 0., 0., 1., 0., 2.],\n",
       "       [0., 0., 0., 0., 1., 0.]])"
      ]
     },
     "execution_count": 6,
     "metadata": {},
     "output_type": "execute_result"
    }
   ],
   "source": [
    "A.to_dense()"
   ]
  },
  {
   "cell_type": "markdown",
   "id": "e6089bd6",
   "metadata": {},
   "source": [
    "which returns a 2-dimensional numpy array equivalent to the sparse matrix. Now, we proceed to show how the basic matrix operations are implemented in `smn`."
   ]
  },
  {
   "cell_type": "markdown",
   "id": "19263930",
   "metadata": {},
   "source": [
    "## Adding and subtracting sparse matrices"
   ]
  },
  {
   "cell_type": "markdown",
   "id": "ac22819b",
   "metadata": {},
   "source": [
    "In order to present how to add and subtract matrices within our library, let us first generate another spare matrix, $B$,"
   ]
  },
  {
   "cell_type": "code",
   "execution_count": 7,
   "id": "8bc64725",
   "metadata": {},
   "outputs": [],
   "source": [
    "lines   = np.arange(6,dtype=np.int64)\n",
    "columns = np.arange(5,-1,-1,dtype=np.int64)\n",
    "values  = np.ones(6,dtype=np.float64)\n",
    "\n",
    "B = smn.sparse_matrix(lines,columns,values)"
   ]
  },
  {
   "cell_type": "code",
   "execution_count": 8,
   "id": "d673c515",
   "metadata": {},
   "outputs": [
    {
     "data": {
      "text/plain": [
       "array([[0., 0., 0., 0., 0., 1.],\n",
       "       [0., 0., 0., 0., 1., 0.],\n",
       "       [0., 0., 0., 1., 0., 0.],\n",
       "       [0., 0., 1., 0., 0., 0.],\n",
       "       [0., 1., 0., 0., 0., 0.],\n",
       "       [1., 0., 0., 0., 0., 0.]])"
      ]
     },
     "execution_count": 8,
     "metadata": {},
     "output_type": "execute_result"
    }
   ],
   "source": [
    "B.to_dense()"
   ]
  },
  {
   "cell_type": "markdown",
   "id": "db6f6fd2",
   "metadata": {},
   "source": [
    "Then we can add the two sparse matrices, $A$ and $B$, using the usual `+` operation"
   ]
  },
  {
   "cell_type": "code",
   "execution_count": 9,
   "id": "ca89d9cc",
   "metadata": {},
   "outputs": [
    {
     "data": {
      "text/plain": [
       "array([[0., 2., 0., 0., 0., 1.],\n",
       "       [1., 0., 2., 0., 1., 0.],\n",
       "       [0., 1., 0., 3., 0., 0.],\n",
       "       [0., 0., 2., 0., 2., 0.],\n",
       "       [0., 1., 0., 1., 0., 2.],\n",
       "       [1., 0., 0., 0., 1., 0.]])"
      ]
     },
     "execution_count": 9,
     "metadata": {},
     "output_type": "execute_result"
    }
   ],
   "source": [
    "C=A+B\n",
    "C.to_dense()"
   ]
  },
  {
   "cell_type": "markdown",
   "id": "e642a1de",
   "metadata": {},
   "source": [
    "and, similarly, subtract matrices using the usual `-` operation"
   ]
  },
  {
   "cell_type": "code",
   "execution_count": 10,
   "id": "d736aa3d",
   "metadata": {},
   "outputs": [
    {
     "data": {
      "text/plain": [
       "array([[ 0.,  2.,  0.,  0.,  0., -1.],\n",
       "       [ 1.,  0.,  2.,  0., -1.,  0.],\n",
       "       [ 0.,  1.,  0.,  1.,  0.,  0.],\n",
       "       [ 0.,  0.,  0.,  0.,  2.,  0.],\n",
       "       [ 0., -1.,  0.,  1.,  0.,  2.],\n",
       "       [-1.,  0.,  0.,  0.,  1.,  0.]])"
      ]
     },
     "execution_count": 10,
     "metadata": {},
     "output_type": "execute_result"
    }
   ],
   "source": [
    "D=A-B\n",
    "D.to_dense()"
   ]
  },
  {
   "cell_type": "markdown",
   "id": "9a6e8787",
   "metadata": {},
   "source": [
    "Here it is important to understand the method through which `smn` adds or subtracts the sparse matrices.  It is done by simply concatenating the arrays of values and indices. Therefore it may contain duplicates in terms of values and corresponding indices. Let's see the matrix $D = A-B$ for an example"
   ]
  },
  {
   "cell_type": "code",
   "execution_count": 11,
   "id": "f42cb147",
   "metadata": {},
   "outputs": [
    {
     "data": {
      "text/plain": [
       "(array([0, 1, 2, 3, 4, 5, 4, 3, 2, 1, 0, 1, 2, 3, 4, 5]),\n",
       " array([1, 2, 3, 4, 5, 4, 3, 2, 1, 0, 5, 4, 3, 2, 1, 0]),\n",
       " array([ 2.,  2.,  2.,  2.,  2.,  1.,  1.,  1.,  1.,  1., -1., -1., -1.,\n",
       "        -1., -1., -1.]))"
      ]
     },
     "execution_count": 11,
     "metadata": {},
     "output_type": "execute_result"
    }
   ],
   "source": [
    "D.lines,D.columns,D.values"
   ]
  },
  {
   "cell_type": "markdown",
   "id": "e5f4f96c",
   "metadata": {},
   "source": [
    "Note that even though the element (3,2) of $D$ is 0 (line 10), it still appears in the attributes of $D$ associated to the value $1.$ and once again to the value $-1.$. With the sum of them $0.$ being the correct final value. \n",
    "It is important to mention that such redundancy still leads to the correct result when performing matrix operations, as the redundant elements contribute to the final result as they should.\n"
   ]
  },
  {
   "cell_type": "markdown",
   "id": "188e4a04",
   "metadata": {},
   "source": [
    "Nevertheless, eliminating redundancy in sparse matrix representations can significantly optimize memory usage and computational performance, particularly for large matrices. As a result, we recommend minimizing the use of the + and - operators. However, if one still finds the need to use them and aims to optimize performance, we have also provided the 'simplify' method. This method efficiently eliminates redundancies, ensuring streamlined operations."
   ]
  },
  {
   "cell_type": "code",
   "execution_count": 12,
   "id": "c86252c4",
   "metadata": {},
   "outputs": [
    {
     "data": {
      "text/plain": [
       "(array([0, 0, 1, 1, 1, 2, 2, 3, 4, 4, 4, 5, 5]),\n",
       " array([1, 5, 0, 2, 4, 1, 3, 4, 1, 3, 5, 0, 4]),\n",
       " array([ 2., -1.,  1.,  2., -1.,  1.,  1.,  2., -1.,  1.,  2., -1.,  1.]))"
      ]
     },
     "execution_count": 12,
     "metadata": {},
     "output_type": "execute_result"
    }
   ],
   "source": [
    "D.simplify()\n",
    "D.lines,D.columns,D.values"
   ]
  },
  {
   "cell_type": "markdown",
   "id": "a936a865",
   "metadata": {},
   "source": [
    "For a more dramatic example let's create the null matrix as $N=A-A$."
   ]
  },
  {
   "cell_type": "code",
   "execution_count": 13,
   "id": "4a1f809e",
   "metadata": {},
   "outputs": [
    {
     "data": {
      "text/plain": [
       "array([[0., 0., 0., 0., 0., 0.],\n",
       "       [0., 0., 0., 0., 0., 0.],\n",
       "       [0., 0., 0., 0., 0., 0.],\n",
       "       [0., 0., 0., 0., 0., 0.],\n",
       "       [0., 0., 0., 0., 0., 0.],\n",
       "       [0., 0., 0., 0., 0., 0.]])"
      ]
     },
     "execution_count": 13,
     "metadata": {},
     "output_type": "execute_result"
    }
   ],
   "source": [
    "N = A-A\n",
    "N.to_dense()"
   ]
  },
  {
   "cell_type": "markdown",
   "id": "20d84e67",
   "metadata": {},
   "source": [
    "Even though $N$ it is an null matrix, it still occupies a lot more memory than necessary if the `simplify` method is not used, as it can be seen below:"
   ]
  },
  {
   "cell_type": "code",
   "execution_count": 14,
   "id": "23eb5048",
   "metadata": {},
   "outputs": [
    {
     "data": {
      "text/plain": [
       "(array([0, 1, 2, 3, 4, 5, 4, 3, 2, 1, 0, 1, 2, 3, 4, 5, 4, 3, 2, 1]),\n",
       " array([1, 2, 3, 4, 5, 4, 3, 2, 1, 0, 1, 2, 3, 4, 5, 4, 3, 2, 1, 0]),\n",
       " array([ 2.,  2.,  2.,  2.,  2.,  1.,  1.,  1.,  1.,  1., -2., -2., -2.,\n",
       "        -2., -2., -1., -1., -1., -1., -1.]))"
      ]
     },
     "execution_count": 14,
     "metadata": {},
     "output_type": "execute_result"
    }
   ],
   "source": [
    "N.lines,N.columns,N.values"
   ]
  },
  {
   "cell_type": "code",
   "execution_count": 15,
   "id": "35d9d444",
   "metadata": {},
   "outputs": [
    {
     "data": {
      "text/plain": [
       "(array([], dtype=int64), array([], dtype=int64), array([], dtype=float64))"
      ]
     },
     "execution_count": 15,
     "metadata": {},
     "output_type": "execute_result"
    }
   ],
   "source": [
    "N.simplify()\n",
    "N.lines,N.columns,N.values"
   ]
  },
  {
   "cell_type": "markdown",
   "id": "a0133a6c",
   "metadata": {},
   "source": [
    "After simplification, $N$ is an null sparse matrix, as it has no non-zero elements."
   ]
  },
  {
   "cell_type": "markdown",
   "id": "689987fe",
   "metadata": {},
   "source": [
    "## Multiplying sparse matrices"
   ]
  },
  {
   "cell_type": "markdown",
   "id": "357b5098",
   "metadata": {},
   "source": [
    "Similarly to addition and subtraction, we can multiply sparse matrices using the usual `*` operator"
   ]
  },
  {
   "cell_type": "code",
   "execution_count": 16,
   "id": "7dad3791",
   "metadata": {},
   "outputs": [
    {
     "data": {
      "text/plain": [
       "array([[0., 0., 0., 0., 2., 0.],\n",
       "       [0., 0., 0., 2., 0., 1.],\n",
       "       [0., 0., 2., 0., 1., 0.],\n",
       "       [0., 2., 0., 1., 0., 0.],\n",
       "       [2., 0., 1., 0., 0., 0.],\n",
       "       [0., 1., 0., 0., 0., 0.]])"
      ]
     },
     "execution_count": 16,
     "metadata": {},
     "output_type": "execute_result"
    }
   ],
   "source": [
    "H = A*B\n",
    "H.to_dense()"
   ]
  },
  {
   "cell_type": "code",
   "execution_count": 17,
   "id": "2a60ebac",
   "metadata": {},
   "outputs": [
    {
     "data": {
      "text/plain": [
       "(array([0, 1, 1, 2, 2, 3, 3, 4, 4, 5]),\n",
       " array([4, 3, 5, 2, 4, 1, 3, 0, 2, 1]),\n",
       " array([2., 2., 1., 2., 1., 2., 1., 2., 1., 1.]))"
      ]
     },
     "execution_count": 17,
     "metadata": {},
     "output_type": "execute_result"
    }
   ],
   "source": [
    "H.lines,H.columns,H.values"
   ]
  },
  {
   "cell_type": "markdown",
   "id": "e121de26",
   "metadata": {},
   "source": [
    "which is consistent with the dot function in numpy"
   ]
  },
  {
   "cell_type": "code",
   "execution_count": 18,
   "id": "a08cb41e",
   "metadata": {},
   "outputs": [
    {
     "data": {
      "text/plain": [
       "array([[0., 0., 0., 0., 2., 0.],\n",
       "       [0., 0., 0., 2., 0., 1.],\n",
       "       [0., 0., 2., 0., 1., 0.],\n",
       "       [0., 2., 0., 1., 0., 0.],\n",
       "       [2., 0., 1., 0., 0., 0.],\n",
       "       [0., 1., 0., 0., 0., 0.]])"
      ]
     },
     "execution_count": 18,
     "metadata": {},
     "output_type": "execute_result"
    }
   ],
   "source": [
    "np.dot(A.to_dense(),B.to_dense())"
   ]
  },
  {
   "cell_type": "markdown",
   "id": "be0ad20d",
   "metadata": {},
   "source": [
    "Note however that this is *not* exchangeable with the (`numpy.ndarray`) product operator, since it multiplies the elements term by term"
   ]
  },
  {
   "cell_type": "code",
   "execution_count": 19,
   "id": "599772dd",
   "metadata": {},
   "outputs": [
    {
     "data": {
      "text/plain": [
       "array([[0., 0., 0., 0., 0., 0.],\n",
       "       [0., 0., 0., 0., 0., 0.],\n",
       "       [0., 0., 0., 2., 0., 0.],\n",
       "       [0., 0., 1., 0., 0., 0.],\n",
       "       [0., 0., 0., 0., 0., 0.],\n",
       "       [0., 0., 0., 0., 0., 0.]])"
      ]
     },
     "execution_count": 19,
     "metadata": {},
     "output_type": "execute_result"
    }
   ],
   "source": [
    "A.to_dense()*B.to_dense()"
   ]
  },
  {
   "cell_type": "markdown",
   "id": "f09b393f",
   "metadata": {},
   "source": [
    "## Multiply matrix and vector"
   ]
  },
  {
   "cell_type": "markdown",
   "id": "f6231097",
   "metadata": {},
   "source": [
    "Although it is interesting to multiply matrix by matrix. In many scientific applications, the focus lies in multiplying matrices by vectors. This is especially common in physics, where vectors are typically represented as column matrices and multiplied on the right-hand side "
   ]
  },
  {
   "cell_type": "markdown",
   "id": "679c8183",
   "metadata": {},
   "source": [
    "$\\begin{bmatrix} a_{11} & a_{12} & \\dots & a_{1n} \\\\ a_{21} & a_{22} & \\dots & a_{2n} \\\\ \\vdots & \\vdots & \\ddots & \\vdots \\\\ a_{m1} & a_{m2} & \\dots & a_{mn} \\\\ \\end{bmatrix} \n",
    " \\begin{bmatrix} v_1 \\\\ v_2 \\\\ \\vdots \\\\ v_n \\\\ \\end{bmatrix}\n",
    "= \\begin{bmatrix}\n",
    "\\sum_i a_{1i}v_i \\\\\n",
    "\\sum_i a_{2i}v_i \\\\\n",
    "\\vdots \\\\\n",
    "\\sum_i a_{mi}v_i \\\\\n",
    "\\end{bmatrix} \\ .\n",
    "$"
   ]
  },
  {
   "cell_type": "markdown",
   "id": "0971b26d",
   "metadata": {},
   "source": [
    "Here is where the sparse matrix format has a further oportunity to shine, as the sparse matix format wil not need to calculate the terms for which the matrix element is zero. When performing multiplication involving a sparse matrix, it can potentially introduce non-zero elements in previously empty positions, leading to a denser matrix. This increase in density occurs due to the multiplication process and the interaction between non-zero elements.\n",
    "\n",
    "Meanwhile, when multiplying a sparse matrix by a (dense) vector, the memory usage remains the same, limited to the vector's size. As a result, the size and sparsity pattern of the vector remain unchanged, preserving the memory efficiency associated with sparse representations.\n",
    "\n",
    "Because of this, it is recommended for better performance to avoid direct matrix multiplications and opt for successive matrix times vector products whenever possible."
   ]
  },
  {
   "cell_type": "markdown",
   "id": "d9eee2f8",
   "metadata": {},
   "source": [
    "In `smn` a multiplication of sparse matrix times a (column) vector as above is implemented in the function `sm_times_array`"
   ]
  },
  {
   "cell_type": "code",
   "execution_count": 20,
   "id": "a2900f89",
   "metadata": {
    "scrolled": true
   },
   "outputs": [
    {
     "data": {
      "text/plain": [
       "array([1.  , 1.75, 2.5 , 3.25, 4.  , 1.25])"
      ]
     },
     "execution_count": 20,
     "metadata": {},
     "output_type": "execute_result"
    }
   ],
   "source": [
    "v = np.array((.25,.5,.75,1.,1.25,1.5))\n",
    "smn.sm_times_array(A,v)"
   ]
  },
  {
   "cell_type": "markdown",
   "id": "62e3a9ea",
   "metadata": {},
   "source": [
    "which is equvalent to the `numpy` dot function for numpy arrays"
   ]
  },
  {
   "cell_type": "code",
   "execution_count": 21,
   "id": "01aefce4",
   "metadata": {},
   "outputs": [
    {
     "data": {
      "text/plain": [
       "array([1.  , 1.75, 2.5 , 3.25, 4.  , 1.25])"
      ]
     },
     "execution_count": 21,
     "metadata": {},
     "output_type": "execute_result"
    }
   ],
   "source": [
    "np.dot(A.to_dense(),v)"
   ]
  },
  {
   "cell_type": "markdown",
   "id": "271cd7e1",
   "metadata": {},
   "source": [
    "Similarly, a multiplication of a (row) vector represented by an array times a matrix, as it often preferred in some fields such as stochastic processes,"
   ]
  },
  {
   "cell_type": "markdown",
   "id": "2f1bc191",
   "metadata": {},
   "source": [
    "$\n",
    "\\begin{bmatrix} v_1 & v_2 & \\ldots & v_n  \\end{bmatrix}\n",
    "\\begin{bmatrix} a_{11} & a_{12} & \\dots & a_{1n} \\\\ a_{21} & a_{22} & \\dots & a_{2n} \\\\ \\vdots & \\vdots & \\ddots & \\vdots \\\\ a_{m1} & a_{m2} & \\dots & a_{mn} \\\\ \\end{bmatrix} \n",
    "= \\begin{bmatrix}\n",
    "\\sum_i v_i a_{i1} & \\sum_i v_i a_{i2} & \\ldots & \\sum_i v_i a_{im} \n",
    "\\end{bmatrix}\n",
    "$"
   ]
  },
  {
   "cell_type": "markdown",
   "id": "d3240964",
   "metadata": {},
   "source": [
    "is implemented in the function `array_times_sm`"
   ]
  },
  {
   "cell_type": "code",
   "execution_count": 22,
   "id": "021d41a6",
   "metadata": {},
   "outputs": [
    {
     "data": {
      "text/plain": [
       "array([0.5 , 1.25, 2.  , 2.75, 3.5 , 2.5 ])"
      ]
     },
     "execution_count": 22,
     "metadata": {},
     "output_type": "execute_result"
    }
   ],
   "source": [
    "smn.array_times_sm(v,A)"
   ]
  },
  {
   "cell_type": "markdown",
   "id": "0cea0988",
   "metadata": {},
   "source": [
    "which is equivalent to the `numpy` version."
   ]
  },
  {
   "cell_type": "code",
   "execution_count": 23,
   "id": "4aaa60cd",
   "metadata": {},
   "outputs": [
    {
     "data": {
      "text/plain": [
       "array([0.5 , 1.25, 2.  , 2.75, 3.5 , 2.5 ])"
      ]
     },
     "execution_count": 23,
     "metadata": {},
     "output_type": "execute_result"
    }
   ],
   "source": [
    "np.dot(v,A.to_dense())"
   ]
  },
  {
   "cell_type": "markdown",
   "id": "2f59b06e",
   "metadata": {},
   "source": [
    "## The dot function"
   ]
  },
  {
   "cell_type": "markdown",
   "id": "a1f80962",
   "metadata": {},
   "source": [
    "Both `sm_times_array` and `array_times_sm` can be used within Numba. However, in order to have a syntax familiar to `numpy` users we also implemented an equivalent `dot` function that handles, at the same time, matrix multiplication"
   ]
  },
  {
   "cell_type": "code",
   "execution_count": 24,
   "id": "6ae55524",
   "metadata": {},
   "outputs": [
    {
     "data": {
      "text/plain": [
       "(array([0, 1, 1, 2, 2, 3, 3, 4, 4, 5]),\n",
       " array([4, 3, 5, 2, 4, 1, 3, 0, 2, 1]),\n",
       " array([2., 2., 1., 2., 1., 2., 1., 2., 1., 1.]))"
      ]
     },
     "execution_count": 24,
     "metadata": {},
     "output_type": "execute_result"
    }
   ],
   "source": [
    "I = smn.dot(A,B)\n",
    "I.lines,I.columns,I.values"
   ]
  },
  {
   "cell_type": "markdown",
   "id": "8edf4310",
   "metadata": {},
   "source": [
    "multiplication by a column vector"
   ]
  },
  {
   "cell_type": "code",
   "execution_count": 25,
   "id": "decfc510",
   "metadata": {},
   "outputs": [
    {
     "data": {
      "text/plain": [
       "array([1.  , 1.75, 2.5 , 3.25, 4.  , 1.25])"
      ]
     },
     "execution_count": 25,
     "metadata": {},
     "output_type": "execute_result"
    }
   ],
   "source": [
    "smn.dot(A,v)"
   ]
  },
  {
   "cell_type": "markdown",
   "id": "09d5fac1",
   "metadata": {},
   "source": [
    "multiplication by a row vector "
   ]
  },
  {
   "cell_type": "code",
   "execution_count": 26,
   "id": "209a4712",
   "metadata": {},
   "outputs": [
    {
     "data": {
      "text/plain": [
       "array([0.5 , 1.25, 2.  , 2.75, 3.5 , 2.5 ])"
      ]
     },
     "execution_count": 26,
     "metadata": {},
     "output_type": "execute_result"
    }
   ],
   "source": [
    "smn.dot(v,A)"
   ]
  },
  {
   "cell_type": "markdown",
   "id": "2812a731",
   "metadata": {},
   "source": [
    "and the regular dot product of numpy arrays."
   ]
  },
  {
   "cell_type": "code",
   "execution_count": 27,
   "id": "027a9eaa",
   "metadata": {},
   "outputs": [
    {
     "data": {
      "text/plain": [
       "5.6875"
      ]
     },
     "execution_count": 27,
     "metadata": {},
     "output_type": "execute_result"
    }
   ],
   "source": [
    "smn.dot(v,v)"
   ]
  },
  {
   "cell_type": "markdown",
   "id": "c783a981",
   "metadata": {},
   "source": [
    "Note that since `dot` gives results in different data types, it is *not* compiled in Numba and, because of this, can not be used inside a Numba compiled function. If necessary to do so, we recomend using the product operator `*`, `sm_times_array`, `array_times_sm`, and `numpy.dot` respectively."
   ]
  },
  {
   "cell_type": "markdown",
   "id": "b00ceaf7",
   "metadata": {},
   "source": [
    "## Summing over a dimension"
   ]
  },
  {
   "cell_type": "markdown",
   "id": "0cbf985d",
   "metadata": {},
   "source": [
    "Now, let us implement a function that sums the elements of a matrix line by line, meaning $f$ such that"
   ]
  },
  {
   "cell_type": "markdown",
   "id": "47a28773",
   "metadata": {},
   "source": [
    "$f(A) = f \\left( \\begin{bmatrix} a_{11} & a_{12} & \\dots & a_{1n} \\\\ a_{21} & a_{22} & \\dots & a_{2n} \\\\ \\vdots & \\vdots & \\ddots & \\vdots \\\\ a_{m1} & a_{m2} & \\dots & a_{mn} \\\\ \\end{bmatrix}  \\right)\n",
    "= \\begin{bmatrix}\n",
    "\\sum_i a_{1i} \\\\\n",
    "\\sum_i a_{2i} \\\\\n",
    "\\vdots \\\\\n",
    "\\sum_i a_{mi} \\\\\n",
    "\\end{bmatrix} \\ .\n",
    "$"
   ]
  },
  {
   "cell_type": "markdown",
   "id": "42890d6d",
   "metadata": {},
   "source": [
    "which is implemented in `smn` through the method `line_sum`"
   ]
  },
  {
   "cell_type": "code",
   "execution_count": 28,
   "id": "aa7eab84",
   "metadata": {},
   "outputs": [
    {
     "data": {
      "text/plain": [
       "array([2., 3., 3., 3., 3., 1.])"
      ]
     },
     "execution_count": 28,
     "metadata": {},
     "output_type": "execute_result"
    }
   ],
   "source": [
    "A.line_sum()"
   ]
  },
  {
   "cell_type": "markdown",
   "id": "60bb6d53",
   "metadata": {},
   "source": [
    "which is equivalent to the `numpy` function `sum` with the parameter `axis=1` for dense matrices"
   ]
  },
  {
   "cell_type": "code",
   "execution_count": 29,
   "id": "269033be",
   "metadata": {},
   "outputs": [
    {
     "data": {
      "text/plain": [
       "array([2., 3., 3., 3., 3., 1.])"
      ]
     },
     "execution_count": 29,
     "metadata": {},
     "output_type": "execute_result"
    }
   ],
   "source": [
    "np.sum(A.to_dense(),axis=1)"
   ]
  },
  {
   "cell_type": "markdown",
   "id": "d346cef0",
   "metadata": {},
   "source": [
    "and the column sum, meaning $g$ such that \n",
    "\n",
    "$g(A) = g \\left( \\begin{bmatrix} a_{11} & a_{12} & \\dots & a_{1n} \\\\ a_{21} & a_{22} & \\dots & a_{2n} \\\\ \\vdots & \\vdots & \\ddots & \\vdots \\\\ a_{m1} & a_{m2} & \\dots & a_{mn} \\\\ \\end{bmatrix}  \\right)\n",
    "= \\begin{bmatrix}\n",
    "\\sum_i a_{i1} \\\\\n",
    "\\sum_i a_{i2} \\\\\n",
    "\\vdots \\\\\n",
    "\\sum_i a_{im} \\\\\n",
    "\\end{bmatrix} \\ .\n",
    "$\n",
    "\n",
    "Implemented in `smn` as `column_sum`"
   ]
  },
  {
   "cell_type": "code",
   "execution_count": 30,
   "id": "d3f0d8af",
   "metadata": {},
   "outputs": [
    {
     "data": {
      "text/plain": [
       "array([1., 3., 3., 3., 3., 2.])"
      ]
     },
     "execution_count": 30,
     "metadata": {},
     "output_type": "execute_result"
    }
   ],
   "source": [
    "A.column_sum()"
   ]
  },
  {
   "cell_type": "markdown",
   "id": "f3eb1a58",
   "metadata": {},
   "source": [
    "equivalent to the `numpy` function `sum` with the parameter `axis=0` "
   ]
  },
  {
   "cell_type": "code",
   "execution_count": 31,
   "id": "cd0fa24b",
   "metadata": {},
   "outputs": [
    {
     "data": {
      "text/plain": [
       "array([1., 3., 3., 3., 3., 2.])"
      ]
     },
     "execution_count": 31,
     "metadata": {},
     "output_type": "execute_result"
    }
   ],
   "source": [
    "np.sum(A.to_dense(),axis=0)"
   ]
  },
  {
   "cell_type": "markdown",
   "id": "354423b7",
   "metadata": {},
   "source": [
    "Now, in a manner similar to the `dot` function implemented above, we also implemented the `sum` function for greater similarity with `numpy`"
   ]
  },
  {
   "cell_type": "code",
   "execution_count": 32,
   "id": "d573175b",
   "metadata": {},
   "outputs": [
    {
     "data": {
      "text/plain": [
       "array([2., 3., 3., 3., 3., 1.])"
      ]
     },
     "execution_count": 32,
     "metadata": {},
     "output_type": "execute_result"
    }
   ],
   "source": [
    "smn.sum(A,axis=1) #line"
   ]
  },
  {
   "cell_type": "code",
   "execution_count": 33,
   "id": "a0c89df3",
   "metadata": {},
   "outputs": [
    {
     "data": {
      "text/plain": [
       "array([1., 3., 3., 3., 3., 2.])"
      ]
     },
     "execution_count": 33,
     "metadata": {},
     "output_type": "execute_result"
    }
   ],
   "source": [
    "smn.sum(A,axis=0) #column"
   ]
  },
  {
   "cell_type": "markdown",
   "id": "569b9c9c",
   "metadata": {},
   "source": [
    "and when the parameter `axis` is not specified, it gives the sum of all elements, as in `numpy`"
   ]
  },
  {
   "cell_type": "code",
   "execution_count": 34,
   "id": "2cfd4fa5",
   "metadata": {},
   "outputs": [
    {
     "data": {
      "text/plain": [
       "15.0"
      ]
     },
     "execution_count": 34,
     "metadata": {},
     "output_type": "execute_result"
    }
   ],
   "source": [
    "smn.sum(A)"
   ]
  },
  {
   "cell_type": "code",
   "execution_count": 35,
   "id": "ae19cdd1",
   "metadata": {},
   "outputs": [
    {
     "data": {
      "text/plain": [
       "15.0"
      ]
     },
     "execution_count": 35,
     "metadata": {},
     "output_type": "execute_result"
    }
   ],
   "source": [
    "np.sum(A.to_dense())"
   ]
  },
  {
   "cell_type": "markdown",
   "id": "2b52df8a",
   "metadata": {},
   "source": [
    "Please note that, as it happened with `dot`, `smn.sum` is *not* compiled with Numba."
   ]
  },
  {
   "cell_type": "markdown",
   "id": "533edbb4",
   "metadata": {},
   "source": [
    "## Wall time comparison"
   ]
  },
  {
   "cell_type": "markdown",
   "id": "8ea0b9cf",
   "metadata": {},
   "source": [
    "It is reasonable to anticipate that algorithms implemented using sparse matrices, as mentioned earlier, would exhibit greater efficiency compared to their equivalent counterparts using dense matrices. As previously mentioned, memory requirements are significantly reduced. However, to validate this assumption, it is essential to conduct benchmarking tests to measure and compare the actual performance of algorithms utilizing sparse and dense matrices. For this, we shall first create a large sparse matrix"
   ]
  },
  {
   "cell_type": "code",
   "execution_count": 36,
   "id": "fb8a3693",
   "metadata": {},
   "outputs": [
    {
     "data": {
      "text/plain": [
       "array([[0.03713583, 0.        , 0.        , ..., 0.        , 0.        ,\n",
       "        0.        ],\n",
       "       [0.        , 0.07444172, 0.        , ..., 0.        , 0.        ,\n",
       "        0.        ],\n",
       "       [0.        , 0.        , 0.02063736, ..., 0.        , 0.        ,\n",
       "        0.        ],\n",
       "       ...,\n",
       "       [0.        , 0.        , 0.        , ..., 0.25439819, 0.        ,\n",
       "        0.        ],\n",
       "       [0.        , 0.        , 0.        , ..., 0.        , 0.10964658,\n",
       "        0.        ],\n",
       "       [0.        , 0.        , 0.        , ..., 0.        , 0.        ,\n",
       "        0.78157484]])"
      ]
     },
     "execution_count": 36,
     "metadata": {},
     "output_type": "execute_result"
    }
   ],
   "source": [
    "N = 1000 #size of the matrix, change for further testing\n",
    "lines_1   = np.array(np.arange(N),dtype=np.int64)\n",
    "columns_1 = np.array(np.arange(N),dtype=np.int64)\n",
    "values_1  = np.random.rand(N) #diagonal matrix with random elements\n",
    "\n",
    "lines_2   = np.array(np.arange(N),dtype=np.int64)\n",
    "columns_2 = np.array(np.random.randint(N,size=N),dtype=np.int64) #matrix with 1 extra element per line in a random column\n",
    "values_2  = np.random.rand(N) \n",
    "\n",
    "Z = smn.sparse_matrix(lines_1,columns_1,values_1)+smn.sparse_matrix(columns_2,lines_2,values_2)\n",
    "\n",
    "Z_dense = Z.to_dense() \n",
    "Z_dense"
   ]
  },
  {
   "cell_type": "markdown",
   "id": "4c0ffa50",
   "metadata": {},
   "source": [
    "In order to compare the execution time of product of matrices, we shall use the `timeit` special function"
   ]
  },
  {
   "cell_type": "code",
   "execution_count": 37,
   "id": "ec49253e",
   "metadata": {},
   "outputs": [],
   "source": [
    "import timeit"
   ]
  },
  {
   "cell_type": "markdown",
   "id": "5cdaf630",
   "metadata": {},
   "source": [
    "allowing us to verify that the time spent to calculate a matrix product using `smn` sparse matrix is considerably smaller than the `numpy` made with the equivalent dense matrix."
   ]
  },
  {
   "cell_type": "code",
   "execution_count": 38,
   "id": "f5406616",
   "metadata": {},
   "outputs": [
    {
     "name": "stdout",
     "output_type": "stream",
     "text": [
      "4.19 ms ± 437 µs per loop (mean ± std. dev. of 7 runs, 100 loops each)\n"
     ]
    }
   ],
   "source": [
    "%timeit (Z*Z)"
   ]
  },
  {
   "cell_type": "code",
   "execution_count": 39,
   "id": "ed304037",
   "metadata": {},
   "outputs": [],
   "source": [
    "Z_dense = Z.to_dense() "
   ]
  },
  {
   "cell_type": "code",
   "execution_count": 40,
   "id": "a19cd720",
   "metadata": {},
   "outputs": [
    {
     "name": "stdout",
     "output_type": "stream",
     "text": [
      "16.7 ms ± 848 µs per loop (mean ± std. dev. of 7 runs, 100 loops each)\n"
     ]
    }
   ],
   "source": [
    "%timeit np.dot(Z_dense,Z_dense)"
   ]
  },
  {
   "cell_type": "markdown",
   "id": "eeb3f7cc",
   "metadata": {},
   "source": [
    "The time gained is even more noticeable when doing matrix times vector operations (when compared to the dense `numpy` version)"
   ]
  },
  {
   "cell_type": "code",
   "execution_count": 41,
   "id": "f2b9bc02",
   "metadata": {},
   "outputs": [],
   "source": [
    "rho = np.random.rand(N)"
   ]
  },
  {
   "cell_type": "code",
   "execution_count": 42,
   "id": "a5c66ca2",
   "metadata": {},
   "outputs": [
    {
     "name": "stdout",
     "output_type": "stream",
     "text": [
      "5.5 µs ± 358 ns per loop (mean ± std. dev. of 7 runs, 100,000 loops each)\n"
     ]
    }
   ],
   "source": [
    "%timeit smn.dot(rho,Z)"
   ]
  },
  {
   "cell_type": "code",
   "execution_count": 43,
   "id": "e490342c",
   "metadata": {},
   "outputs": [
    {
     "name": "stdout",
     "output_type": "stream",
     "text": [
      "219 µs ± 35.4 µs per loop (mean ± std. dev. of 7 runs, 10,000 loops each)\n"
     ]
    }
   ],
   "source": [
    "%timeit np.dot(rho,Z_dense)"
   ]
  },
  {
   "cell_type": "markdown",
   "id": "d990c380",
   "metadata": {},
   "source": [
    "and when summing by dimension"
   ]
  },
  {
   "cell_type": "code",
   "execution_count": 44,
   "id": "56553ec4",
   "metadata": {},
   "outputs": [
    {
     "name": "stdout",
     "output_type": "stream",
     "text": [
      "3.36 µs ± 177 ns per loop (mean ± std. dev. of 7 runs, 100,000 loops each)\n"
     ]
    }
   ],
   "source": [
    "%timeit smn.sum(Z,axis=0)"
   ]
  },
  {
   "cell_type": "code",
   "execution_count": 45,
   "id": "fc1bbca6",
   "metadata": {},
   "outputs": [
    {
     "name": "stdout",
     "output_type": "stream",
     "text": [
      "393 µs ± 38.1 µs per loop (mean ± std. dev. of 7 runs, 1,000 loops each)\n"
     ]
    }
   ],
   "source": [
    "%timeit np.sum(Z_dense,axis=0)"
   ]
  },
  {
   "cell_type": "markdown",
   "id": "0e223e50",
   "metadata": {},
   "source": [
    "## Why use smn? -- compiling Numba function"
   ]
  },
  {
   "cell_type": "markdown",
   "id": "aa3b5795",
   "metadata": {},
   "source": [
    "While the previous examples show that the sparse matrix structure makes matrix operations more significant, that is not the main reason why `smn` is useful. Rather, the reason leading to `smn` development is that we can use objects of the `smn.sparse_matrix` class within Numba compiled functions. \n",
    "\n",
    "As an example let analize a function with three parameters: $\\rho$ a row vector, $A$ a (sparse) matrix, and $k$ a positive integer. The goal being to calculate $\\rho A^k$. Using `smn` this function can be written as"
   ]
  },
  {
   "cell_type": "code",
   "execution_count": 46,
   "id": "3dbf11cc",
   "metadata": {},
   "outputs": [],
   "source": [
    "@numba.njit\n",
    "def evolve_smnandnumba(rho,A,k):\n",
    "    res = rho\n",
    "    for i in range(k):\n",
    "        res = smn.array_times_sm(rho,A)\n",
    "    return res"
   ]
  },
  {
   "cell_type": "markdown",
   "id": "789e3aa9",
   "metadata": {},
   "source": [
    "The `@numba.njit` decorator above instructs Numba to compile the decorated function using just-in-time (JIT) compilation. The first time the function is ran, Numba analyzes the function code and generates machine code based on the specific data types encountered during execution. The JIT compilation process occurs in the background, and following calls utilize the compiled version. \n",
    "With that in mind, we can benchmark the execution time of the JIT-compiled code,"
   ]
  },
  {
   "cell_type": "code",
   "execution_count": 47,
   "id": "d6663729",
   "metadata": {},
   "outputs": [],
   "source": [
    "void = evolve_smnandnumba(rho,Z,50) #Forces JIT compilation"
   ]
  },
  {
   "cell_type": "code",
   "execution_count": 48,
   "id": "f0aaa6b3",
   "metadata": {},
   "outputs": [
    {
     "name": "stdout",
     "output_type": "stream",
     "text": [
      "179 µs ± 25.4 µs per loop (mean ± std. dev. of 7 runs, 10,000 loops each)\n"
     ]
    }
   ],
   "source": [
    "%timeit evolve_smnandnumba(rho,Z,50)"
   ]
  },
  {
   "cell_type": "markdown",
   "id": "4b223a54",
   "metadata": {},
   "source": [
    "and compare it to another version that does use sparse matrix, but not compiled"
   ]
  },
  {
   "cell_type": "code",
   "execution_count": 49,
   "id": "56b375dc",
   "metadata": {},
   "outputs": [],
   "source": [
    "def evolve_smn(rho,A,k):\n",
    "    res = rho*1.0\n",
    "    for i in range(k):\n",
    "        res = smn.array_times_sm(rho,A)\n",
    "    return res"
   ]
  },
  {
   "cell_type": "code",
   "execution_count": 50,
   "id": "ed6bb41c",
   "metadata": {},
   "outputs": [
    {
     "name": "stdout",
     "output_type": "stream",
     "text": [
      "240 µs ± 31.6 µs per loop (mean ± std. dev. of 7 runs, 1,000 loops each)\n"
     ]
    }
   ],
   "source": [
    "%timeit evolve_smn(rho,Z,50)"
   ]
  },
  {
   "cell_type": "markdown",
   "id": "a9b3a652",
   "metadata": {},
   "source": [
    "The reduction is even more dramatic when compared to a compiled code using the regular `numpy` dense array"
   ]
  },
  {
   "cell_type": "code",
   "execution_count": 51,
   "id": "42549846",
   "metadata": {},
   "outputs": [],
   "source": [
    "@numba.njit\n",
    "def evolve_numpy(rho,A,k):\n",
    "    res = rho*1.0\n",
    "    for i in range(k):\n",
    "        res = np.dot(rho,A)\n",
    "    return res\n",
    "\n",
    "void = evolve_numpy(rho,Z_dense,50)"
   ]
  },
  {
   "cell_type": "code",
   "execution_count": 52,
   "id": "0648e2cb",
   "metadata": {},
   "outputs": [
    {
     "name": "stdout",
     "output_type": "stream",
     "text": [
      "8.2 ms ± 1.53 ms per loop (mean ± std. dev. of 7 runs, 100 loops each)\n"
     ]
    }
   ],
   "source": [
    "%timeit evolve_numpy(rho,Z_dense,50)"
   ]
  },
  {
   "cell_type": "markdown",
   "id": "36924d39",
   "metadata": {},
   "source": [
    "## Conclusion"
   ]
  },
  {
   "cell_type": "markdown",
   "id": "26ceaddb",
   "metadata": {},
   "source": [
    "The present post introduces the world of sparse matrices, which offers a plethora of possibilities for optimizing data processing and numerical analysis. With a deeper understanding of their underlying concepts and advantages, it becomes evident that sparse matrices are indispensable in handling large datasets and dynmical processes efficiently.\n",
    "\n",
    "The library `smn` presented here enables operations on sparse matrices within Numba compiled function. By leveraging `smn`, users can have the advantages of compiled code while still using python sintax and programing tools."
   ]
  }
 ],
 "metadata": {
  "kernelspec": {
   "display_name": "Python 3 (ipykernel)",
   "language": "python",
   "name": "python3"
  },
  "language_info": {
   "codemirror_mode": {
    "name": "ipython",
    "version": 3
   },
   "file_extension": ".py",
   "mimetype": "text/x-python",
   "name": "python",
   "nbconvert_exporter": "python",
   "pygments_lexer": "ipython3",
   "version": "3.9.16"
  }
 },
 "nbformat": 4,
 "nbformat_minor": 5
}
